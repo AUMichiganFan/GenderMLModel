{
  "nbformat": 4,
  "nbformat_minor": 0,
  "metadata": {
    "colab": {
      "provenance": [],
      "include_colab_link": true
    },
    "kernelspec": {
      "name": "python3",
      "display_name": "Python 3"
    },
    "language_info": {
      "name": "python"
    }
  },
  "cells": [
    {
      "cell_type": "markdown",
      "metadata": {
        "id": "view-in-github",
        "colab_type": "text"
      },
      "source": [
        "<a href=\"https://colab.research.google.com/github/AUMichiganFan/GenderMLModel/blob/main/Copy_of_8_3_testing_networks.ipynb\" target=\"_parent\"><img src=\"https://colab.research.google.com/assets/colab-badge.svg\" alt=\"Open In Colab\"/></a>"
      ]
    },
    {
      "cell_type": "markdown",
      "metadata": {
        "id": "sduu9xile3dG"
      },
      "source": [
        "## Testing a Network\n",
        "\n",
        "\n",
        "Export your own models or use these ([densely connected](https://drive.google.com/file/d/1Lh52SRvSWSpKbOllblVDJnXnMwhPgBhZ/view?usp=sharing) and [convolutional](https://drive.google.com/file/d/1ko2XkaPHaQ6IS6JHF_ydSVZAxGIo1Qm6/view?usp=sharing)) to see some of these concepts demonstrated.\n",
        "\n",
        "Download [this](https://drive.google.com/file/d/1FDcz90j6a2adGd8eL0srRhIiIVcHsVoo/view?usp=sharing) image to run the test.\n",
        "\n",
        "\n",
        "You can also look at the example code at the end of this file for some hints for how to do different tests."
      ]
    },
    {
      "cell_type": "code",
      "metadata": {
        "id": "rSsYVW8Aevff",
        "colab": {
          "base_uri": "https://localhost:8080/"
        },
        "outputId": "81284e53-1eb6-4466-b228-7cdc9c54fef9"
      },
      "source": [
        "from keras.preprocessing import image\n",
        "from PIL import Image,ImageChops\n",
        "import tensorflow as tf\n",
        "from tensorflow import keras\n",
        "from tensorflow.keras.utils import load_img\n",
        "#from tensorflow.keras.datasets import mnist\n",
        "#from tensorflow.keras import backend as K\n",
        "import numpy as np\n",
        "import matplotlib.pyplot as plt\n",
        "%matplotlib inline\n",
        "\n",
        "# Load in the original data\n",
        "#(train_images, train_labels), (test_images, test_labels) = mnist.load_data()\n",
        "#print(\"MNIST data loaded\")\n",
        "\n",
        "# This will work for the models if you download them from the links above.\n",
        "# If you want to export your own models, use the name of them here instead.\n",
        "model_1 = tf.keras.models.load_model('gender_machine.h5')\n",
        "# model_2 = tf.keras.models.load_model('cnn_model.h5')\n",
        "\n",
        "def plot_image(array, i, labels):\n",
        "  plt.imshow(np.squeeze(array[i]))\n",
        "  plt.title(\" Digit \" + str(labels[i]))\n",
        "  plt.xticks([])\n",
        "  plt.yticks([])\n",
        "  plt.show()\n",
        "\n",
        "def predict_image(model, x):\n",
        "  x = x.astype('float32')\n",
        "  x = x / 255.0\n",
        "\n",
        "  x = np.expand_dims(x, axis=0)\n",
        "\n",
        "  image_predict = model.predict(x, verbose=0)\n",
        "  print(\"Gender: \" + \"Male\" if np.argmax(image_predict) == 0 else \"Female\")\n",
        "\n",
        "  plt.imshow(np.squeeze(x))\n",
        "  plt.xticks([])\n",
        "  plt.yticks([])\n",
        "  plt.show()\n",
        "\n",
        "  # uncomment this like if you want to see the array of predictions\n",
        "  # print(image_predict)\n",
        "  return image_predict\n",
        "\n",
        "\n",
        "def plot_value_array(predictions_array, true_label, h):\n",
        "  plt.grid(False)\n",
        "  plt.xticks(range(10))\n",
        "  plt.yticks([])\n",
        "  thisplot = plt.bar(range(10), predictions_array[0], color=\"#777777\")\n",
        "  plt.ylim([(-1*h), h])\n",
        "  predicted_label = np.argmax(predictions_array)\n",
        "\n",
        "  thisplot[predicted_label].set_color('red')\n",
        "  thisplot[true_label].set_color\n",
        "\n",
        "print(\"machine is ready to be tested\")"
      ],
      "execution_count": null,
      "outputs": [
        {
          "output_type": "stream",
          "name": "stdout",
          "text": [
            "machine is ready to be tested\n"
          ]
        }
      ]
    },
    {
      "cell_type": "code",
      "source": [
        "path = \"tyler.png\"\n",
        "img = tf.keras.utils.load_img(path, target_size=(48,48), color_mode = \"grayscale\")\n",
        "img_arr = tf.keras.utils.img_to_array(img)\n",
        "arr = predict_image(model_1,  img_arr)"
      ],
      "metadata": {
        "colab": {
          "base_uri": "https://localhost:8080/",
          "height": 270
        },
        "id": "YfB1YLqPJXd8",
        "outputId": "31b1a669-be84-46ee-dd1e-60ead9301cab"
      },
      "execution_count": null,
      "outputs": [
        {
          "output_type": "stream",
          "name": "stdout",
          "text": [
            "Gender: Male\n"
          ]
        },
        {
          "output_type": "display_data",
          "data": {
            "text/plain": [
              "<Figure size 432x288 with 1 Axes>"
            ],
            "image/png": "[encoded data removed]"
          },
          "metadata": {}
        }
      ]
    },
    {
      "cell_type": "code",
      "source": [],
      "metadata": {
        "id": "mNKEvj8v71vZ"
      },
      "execution_count": null,
      "outputs": []
    }
  ]
}